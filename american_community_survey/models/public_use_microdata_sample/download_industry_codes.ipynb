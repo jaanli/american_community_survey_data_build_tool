{
 "cells": [
  {
   "cell_type": "code",
   "execution_count": 4,
   "metadata": {},
   "outputs": [],
   "source": [
    "import pandas as pd"
   ]
  },
  {
   "cell_type": "code",
   "execution_count": 26,
   "metadata": {},
   "outputs": [],
   "source": [
    "df = pd.read_excel(\"https://www.census.gov/naics/2017NAICS/2-6%20digit_2017_Codes.xlsx\", dtype=str, skiprows=0)"
   ]
  },
  {
   "cell_type": "code",
   "execution_count": 27,
   "metadata": {},
   "outputs": [
    {
     "data": {
      "text/html": [
       "<div>\n",
       "<style scoped>\n",
       "    .dataframe tbody tr th:only-of-type {\n",
       "        vertical-align: middle;\n",
       "    }\n",
       "\n",
       "    .dataframe tbody tr th {\n",
       "        vertical-align: top;\n",
       "    }\n",
       "\n",
       "    .dataframe thead th {\n",
       "        text-align: right;\n",
       "    }\n",
       "</style>\n",
       "<table border=\"1\" class=\"dataframe\">\n",
       "  <thead>\n",
       "    <tr style=\"text-align: right;\">\n",
       "      <th></th>\n",
       "      <th>Seq. No.</th>\n",
       "      <th>2017 NAICS US   Code</th>\n",
       "      <th>2017 NAICS US Title</th>\n",
       "      <th>Unnamed: 3</th>\n",
       "      <th>Unnamed: 4</th>\n",
       "      <th>Unnamed: 5</th>\n",
       "    </tr>\n",
       "  </thead>\n",
       "  <tbody>\n",
       "    <tr>\n",
       "      <th>0</th>\n",
       "      <td>NaN</td>\n",
       "      <td>NaN</td>\n",
       "      <td>NaN</td>\n",
       "      <td>NaN</td>\n",
       "      <td>NaN</td>\n",
       "      <td>NaN</td>\n",
       "    </tr>\n",
       "    <tr>\n",
       "      <th>1</th>\n",
       "      <td>1</td>\n",
       "      <td>11</td>\n",
       "      <td>Agriculture, Forestry, Fishing and Hunting</td>\n",
       "      <td>NaN</td>\n",
       "      <td>NaN</td>\n",
       "      <td>NaN</td>\n",
       "    </tr>\n",
       "    <tr>\n",
       "      <th>2</th>\n",
       "      <td>2</td>\n",
       "      <td>111</td>\n",
       "      <td>Crop Production</td>\n",
       "      <td>NaN</td>\n",
       "      <td>NaN</td>\n",
       "      <td>NaN</td>\n",
       "    </tr>\n",
       "    <tr>\n",
       "      <th>3</th>\n",
       "      <td>3</td>\n",
       "      <td>1111</td>\n",
       "      <td>Oilseed and Grain Farming</td>\n",
       "      <td>NaN</td>\n",
       "      <td>NaN</td>\n",
       "      <td>NaN</td>\n",
       "    </tr>\n",
       "    <tr>\n",
       "      <th>4</th>\n",
       "      <td>4</td>\n",
       "      <td>11111</td>\n",
       "      <td>Soybean Farming</td>\n",
       "      <td>NaN</td>\n",
       "      <td>NaN</td>\n",
       "      <td>NaN</td>\n",
       "    </tr>\n",
       "    <tr>\n",
       "      <th>...</th>\n",
       "      <td>...</td>\n",
       "      <td>...</td>\n",
       "      <td>...</td>\n",
       "      <td>...</td>\n",
       "      <td>...</td>\n",
       "      <td>...</td>\n",
       "    </tr>\n",
       "    <tr>\n",
       "      <th>2192</th>\n",
       "      <td>2192</td>\n",
       "      <td>9281</td>\n",
       "      <td>National Security and International Affairs</td>\n",
       "      <td>NaN</td>\n",
       "      <td>NaN</td>\n",
       "      <td>NaN</td>\n",
       "    </tr>\n",
       "    <tr>\n",
       "      <th>2193</th>\n",
       "      <td>2193</td>\n",
       "      <td>92811</td>\n",
       "      <td>National Security</td>\n",
       "      <td>NaN</td>\n",
       "      <td>NaN</td>\n",
       "      <td>NaN</td>\n",
       "    </tr>\n",
       "    <tr>\n",
       "      <th>2194</th>\n",
       "      <td>2194</td>\n",
       "      <td>928110</td>\n",
       "      <td>National Security</td>\n",
       "      <td>NaN</td>\n",
       "      <td>NaN</td>\n",
       "      <td>NaN</td>\n",
       "    </tr>\n",
       "    <tr>\n",
       "      <th>2195</th>\n",
       "      <td>2195</td>\n",
       "      <td>92812</td>\n",
       "      <td>International Affairs</td>\n",
       "      <td>NaN</td>\n",
       "      <td>NaN</td>\n",
       "      <td>NaN</td>\n",
       "    </tr>\n",
       "    <tr>\n",
       "      <th>2196</th>\n",
       "      <td>2196</td>\n",
       "      <td>928120</td>\n",
       "      <td>International Affairs</td>\n",
       "      <td>NaN</td>\n",
       "      <td>NaN</td>\n",
       "      <td>NaN</td>\n",
       "    </tr>\n",
       "  </tbody>\n",
       "</table>\n",
       "<p>2197 rows × 6 columns</p>\n",
       "</div>"
      ],
      "text/plain": [
       "     Seq. No. 2017 NAICS US   Code  \\\n",
       "0         NaN                  NaN   \n",
       "1           1                   11   \n",
       "2           2                  111   \n",
       "3           3                 1111   \n",
       "4           4                11111   \n",
       "...       ...                  ...   \n",
       "2192     2192                 9281   \n",
       "2193     2193                92811   \n",
       "2194     2194               928110   \n",
       "2195     2195                92812   \n",
       "2196     2196               928120   \n",
       "\n",
       "                               2017 NAICS US Title Unnamed: 3 Unnamed: 4  \\\n",
       "0                                              NaN        NaN        NaN   \n",
       "1       Agriculture, Forestry, Fishing and Hunting        NaN        NaN   \n",
       "2                                  Crop Production        NaN        NaN   \n",
       "3                        Oilseed and Grain Farming        NaN        NaN   \n",
       "4                                  Soybean Farming        NaN        NaN   \n",
       "...                                            ...        ...        ...   \n",
       "2192  National Security and International Affairs         NaN        NaN   \n",
       "2193                            National Security         NaN        NaN   \n",
       "2194                            National Security         NaN        NaN   \n",
       "2195                        International Affairs         NaN        NaN   \n",
       "2196                        International Affairs         NaN        NaN   \n",
       "\n",
       "     Unnamed: 5  \n",
       "0           NaN  \n",
       "1           NaN  \n",
       "2           NaN  \n",
       "3           NaN  \n",
       "4           NaN  \n",
       "...         ...  \n",
       "2192        NaN  \n",
       "2193        NaN  \n",
       "2194        NaN  \n",
       "2195        NaN  \n",
       "2196        NaN  \n",
       "\n",
       "[2197 rows x 6 columns]"
      ]
     },
     "execution_count": 27,
     "metadata": {},
     "output_type": "execute_result"
    }
   ],
   "source": [
    "df"
   ]
  },
  {
   "cell_type": "code",
   "execution_count": 43,
   "metadata": {},
   "outputs": [],
   "source": [
    "names = df[df['2017 NAICS US   Code'].str.len() == 2][['2017 NAICS US Title']].values.tolist()"
   ]
  },
  {
   "cell_type": "code",
   "execution_count": 44,
   "metadata": {},
   "outputs": [
    {
     "data": {
      "text/plain": [
       "[['Agriculture, Forestry, Fishing and Hunting'],\n",
       " ['Mining, Quarrying, and Oil and Gas Extraction'],\n",
       " ['Utilities'],\n",
       " ['Construction'],\n",
       " ['Wholesale Trade'],\n",
       " ['Information'],\n",
       " ['Finance and Insurance'],\n",
       " ['Real Estate and Rental and Leasing'],\n",
       " ['Professional, Scientific, and Technical Services'],\n",
       " ['Management of Companies and Enterprises'],\n",
       " ['Administrative and Support and Waste Management and Remediation Services'],\n",
       " ['Educational Services'],\n",
       " ['Health Care and Social Assistance'],\n",
       " ['Arts, Entertainment, and Recreation'],\n",
       " ['Accommodation and Food Services'],\n",
       " ['Other Services (except Public Administration)'],\n",
       " ['Public Administration']]"
      ]
     },
     "execution_count": 44,
     "metadata": {},
     "output_type": "execute_result"
    }
   ],
   "source": [
    "names"
   ]
  },
  {
   "cell_type": "code",
   "execution_count": 53,
   "metadata": {},
   "outputs": [
    {
     "data": {
      "text/plain": [
       "[]"
      ]
     },
     "execution_count": 53,
     "metadata": {},
     "output_type": "execute_result"
    }
   ],
   "source": [
    "df[df['2017 NAICS US   Code'].str.len() == 1][['2017 NAICS US Title']].values.tolist()"
   ]
  },
  {
   "cell_type": "code",
   "execution_count": null,
   "metadata": {},
   "outputs": [],
   "source": []
  },
  {
   "cell_type": "code",
   "execution_count": 50,
   "metadata": {},
   "outputs": [],
   "source": [
    "names = df[df['2017 NAICS US   Code'].str.len() == 3][['2017 NAICS US Title']].values.tolist()"
   ]
  },
  {
   "cell_type": "code",
   "execution_count": 51,
   "metadata": {},
   "outputs": [
    {
     "data": {
      "text/plain": [
       "[['Crop Production'],\n",
       " ['Animal Production and Aquaculture'],\n",
       " ['Forestry and Logging'],\n",
       " ['Fishing, Hunting and Trapping'],\n",
       " ['Support Activities for Agriculture and Forestry'],\n",
       " ['Oil and Gas Extraction'],\n",
       " ['Mining (except Oil and Gas)'],\n",
       " ['Support Activities for Mining'],\n",
       " ['Utilities '],\n",
       " ['Construction of Buildings'],\n",
       " ['Heavy and Civil Engineering Construction'],\n",
       " ['Specialty Trade Contractors'],\n",
       " ['Food Manufacturing'],\n",
       " ['Beverage and Tobacco Product Manufacturing'],\n",
       " ['Textile Mills'],\n",
       " ['Textile Product Mills'],\n",
       " ['Apparel Manufacturing'],\n",
       " ['Leather and Allied Product Manufacturing'],\n",
       " ['Wood Product Manufacturing'],\n",
       " ['Paper Manufacturing'],\n",
       " ['Printing and Related Support Activities'],\n",
       " ['Petroleum and Coal Products Manufacturing'],\n",
       " ['Chemical Manufacturing'],\n",
       " ['Plastics and Rubber Products Manufacturing'],\n",
       " ['Nonmetallic Mineral Product Manufacturing'],\n",
       " ['Primary Metal Manufacturing'],\n",
       " ['Fabricated Metal Product Manufacturing'],\n",
       " ['Machinery Manufacturing'],\n",
       " ['Computer and Electronic Product Manufacturing'],\n",
       " ['Electrical Equipment, Appliance, and Component Manufacturing'],\n",
       " ['Transportation Equipment Manufacturing'],\n",
       " ['Furniture and Related Product Manufacturing'],\n",
       " ['Miscellaneous Manufacturing'],\n",
       " ['Merchant Wholesalers, Durable Goods '],\n",
       " ['Merchant Wholesalers, Nondurable Goods '],\n",
       " ['Wholesale Electronic Markets and Agents and Brokers '],\n",
       " ['Motor Vehicle and Parts Dealers '],\n",
       " ['Furniture and Home Furnishings Stores '],\n",
       " ['Electronics and Appliance Stores '],\n",
       " ['Building Material and Garden Equipment and Supplies Dealers '],\n",
       " ['Food and Beverage Stores '],\n",
       " ['Health and Personal Care Stores '],\n",
       " ['Gasoline Stations '],\n",
       " ['Clothing and Clothing Accessories Stores '],\n",
       " ['Sporting Goods, Hobby, Musical Instrument, and Book Stores '],\n",
       " ['General Merchandise Stores '],\n",
       " ['Miscellaneous Store Retailers '],\n",
       " ['Nonstore Retailers '],\n",
       " ['Air Transportation'],\n",
       " ['Rail Transportation'],\n",
       " ['Water Transportation'],\n",
       " ['Truck Transportation'],\n",
       " ['Transit and Ground Passenger Transportation'],\n",
       " ['Pipeline Transportation'],\n",
       " ['Scenic and Sightseeing Transportation'],\n",
       " ['Support Activities for Transportation'],\n",
       " ['Postal Service'],\n",
       " ['Couriers and Messengers'],\n",
       " ['Warehousing and Storage'],\n",
       " ['Publishing Industries (except Internet)'],\n",
       " ['Motion Picture and Sound Recording Industries'],\n",
       " ['Broadcasting (except Internet)'],\n",
       " ['Telecommunications'],\n",
       " ['Data Processing, Hosting, and Related Services'],\n",
       " ['Other Information Services'],\n",
       " ['Monetary Authorities-Central Bank'],\n",
       " ['Credit Intermediation and Related Activities'],\n",
       " ['Securities, Commodity Contracts, and Other Financial Investments and Related Activities'],\n",
       " ['Insurance Carriers and Related Activities'],\n",
       " ['Funds, Trusts, and Other Financial Vehicles '],\n",
       " ['Real Estate'],\n",
       " ['Rental and Leasing Services'],\n",
       " ['Lessors of Nonfinancial Intangible Assets (except Copyrighted Works)'],\n",
       " ['Professional, Scientific, and Technical Services'],\n",
       " ['Management of Companies and Enterprises'],\n",
       " ['Administrative and Support Services'],\n",
       " ['Waste Management and Remediation Services'],\n",
       " ['Educational Services'],\n",
       " ['Ambulatory Health Care Services'],\n",
       " ['Hospitals'],\n",
       " ['Nursing and Residential Care Facilities'],\n",
       " ['Social Assistance'],\n",
       " ['Performing Arts, Spectator Sports, and Related Industries'],\n",
       " ['Museums, Historical Sites, and Similar Institutions'],\n",
       " ['Amusement, Gambling, and Recreation Industries'],\n",
       " ['Accommodation'],\n",
       " ['Food Services and Drinking Places'],\n",
       " ['Repair and Maintenance'],\n",
       " ['Personal and Laundry Services'],\n",
       " ['Religious, Grantmaking, Civic, Professional, and Similar Organizations'],\n",
       " ['Private Households'],\n",
       " ['Executive, Legislative, and Other General Government Support '],\n",
       " ['Justice, Public Order, and Safety Activities '],\n",
       " ['Administration of Human Resource Programs '],\n",
       " ['Administration of Environmental Quality Programs '],\n",
       " ['Administration of Housing Programs, Urban Planning, and Community Development '],\n",
       " ['Administration of Economic Programs '],\n",
       " ['Space Research and Technology '],\n",
       " ['National Security and International Affairs ']]"
      ]
     },
     "execution_count": 51,
     "metadata": {},
     "output_type": "execute_result"
    }
   ],
   "source": [
    "names"
   ]
  },
  {
   "cell_type": "code",
   "execution_count": 35,
   "metadata": {},
   "outputs": [],
   "source": [
    "df_ind = pd.read_parquet(path='/Users/me/data/american_community_survey/upload/2022_acs_pums_individual_people_united_states_first_tranche.parquet')"
   ]
  },
  {
   "cell_type": "code",
   "execution_count": 41,
   "metadata": {},
   "outputs": [],
   "source": [
    "counts = df_ind['North American Industry Classification System (NAICS) recode for 2018 and later based on 2017 NAICS codes'].apply(lambda x: x[:3] if x else None).value_counts()"
   ]
  },
  {
   "cell_type": "code",
   "execution_count": 42,
   "metadata": {},
   "outputs": [
    {
     "data": {
      "text/plain": [
       "North American Industry Classification System (NAICS) recode for 2018 and later based on 2017 NAICS codes\n",
       "PRF    126549\n",
       "RET    112195\n",
       "MED    109888\n",
       "EDU    100248\n",
       "MFG     98385\n",
       "ENT     94067\n",
       "CON     64671\n",
       "FIN     63735\n",
       "SRV     50004\n",
       "ADM     49945\n",
       "TRN     48243\n",
       "SCA     23852\n",
       "WHL     20993\n",
       "INF     19848\n",
       "AGR     16734\n",
       "UTL      8484\n",
       "MIL      7768\n",
       "Une      5492\n",
       "EXT      2678\n",
       "Name: count, dtype: int64"
      ]
     },
     "execution_count": 42,
     "metadata": {},
     "output_type": "execute_result"
    }
   ],
   "source": [
    "counts"
   ]
  },
  {
   "cell_type": "code",
   "execution_count": 49,
   "metadata": {},
   "outputs": [
    {
     "data": {
      "text/plain": [
       "Index(['PRF', 'RET', 'MED', 'EDU', 'MFG', 'ENT', 'CON', 'FIN', 'SRV', 'ADM',\n",
       "       'TRN', 'SCA', 'WHL', 'INF', 'AGR', 'UTL', 'MIL', 'Une', 'EXT'],\n",
       "      dtype='object', name='North American Industry Classification System (NAICS) recode for 2018 and later based on 2017 NAICS codes')"
      ]
     },
     "execution_count": 49,
     "metadata": {},
     "output_type": "execute_result"
    }
   ],
   "source": [
    "counts.index"
   ]
  },
  {
   "cell_type": "code",
   "execution_count": 47,
   "metadata": {},
   "outputs": [
    {
     "data": {
      "text/plain": [
       "North American Industry Classification System (NAICS) recode for 2018 and later based on 2017 NAICS codes\n",
       "EXT-Support Activities For Mining               1253\n",
       "EXT-Nonmetallic Mineral Mining And Quarrying     549\n",
       "EXT-Oil And Gas Extraction                       330\n",
       "EXT-Metal Ore Mining                             298\n",
       "EXT-Coal Mining                                  248\n",
       "Name: count, dtype: int64"
      ]
     },
     "execution_count": 47,
     "metadata": {},
     "output_type": "execute_result"
    }
   ],
   "source": [
    "df_ind[df_ind['North American Industry Classification System (NAICS) recode for 2018 and later based on 2017 NAICS codes'].apply(lambda x: x.startswith('EXT') if x else False)]['North American Industry Classification System (NAICS) recode for 2018 and later based on 2017 NAICS codes'].value_counts()"
   ]
  },
  {
   "cell_type": "code",
   "execution_count": 48,
   "metadata": {},
   "outputs": [
    {
     "data": {
      "text/plain": [
       "North American Industry Classification System (NAICS) recode for 2018 and later based on 2017 NAICS codes\n",
       "Unemployed, With No Work Experience In The Last 5 Years Or Earlier Or Never Worked    5492\n",
       "Name: count, dtype: int64"
      ]
     },
     "execution_count": 48,
     "metadata": {},
     "output_type": "execute_result"
    }
   ],
   "source": [
    "df_ind[df_ind['North American Industry Classification System (NAICS) recode for 2018 and later based on 2017 NAICS codes'].apply(lambda x: x.startswith('Une') if x else False)]['North American Industry Classification System (NAICS) recode for 2018 and later based on 2017 NAICS codes'].value_counts()"
   ]
  },
  {
   "cell_type": "code",
   "execution_count": 45,
   "metadata": {},
   "outputs": [
    {
     "data": {
      "text/plain": [
       "(19, 17)"
      ]
     },
     "execution_count": 45,
     "metadata": {},
     "output_type": "execute_result"
    }
   ],
   "source": [
    "len(counts), len(names)"
   ]
  },
  {
   "cell_type": "code",
   "execution_count": 52,
   "metadata": {},
   "outputs": [],
   "source": [
    "\n",
    "# # https://usa.ipums.org/usa-action/variables/US2001A_1071#description_section\n",
    "industry_codes = {\n",
    "    'AGR': 'Agriculture, Forestry, Fishing and Hunting',\n",
    "    'EXT': 'Mining, Quarrying, and Oil and Gas Extraction',\n",
    "    'UTL': 'Utilities',\n",
    "    'CON': 'Construction',\n",
    "    'WHL': 'Wholesale Trade',\n",
    "    'INF': 'Information',\n",
    "    'FIN': 'Finance and Insurance',\n",
    "    'RET': 'Retail Trade',\n",
    "    'PRF': 'Professional, Scientific, and Technical Services',\n",
    "    'SRV': 'Management of Companies and Enterprises',\n",
    "    'ADM': 'Administrative and Support and Waste Management and Remediation Services',\n",
    "    'EDU': 'Educational Services',\n",
    "    'MED': 'Health Care and Social Assistance',\n",
    "    'ENT': 'Arts, Entertainment, and Recreation',\n",
    "    'MFG': 'Manufacturing', \n",
    "    'TRN': 'Transportation and Warehousing',\n",
    "    'SCA': 'Services',\n",
    "    'MIL': 'Public Administration',\n",
    "    'UNE': 'Unemployed, With No Work Experience In The Last 5 Years Or Earlier Or Never Worked'\n",
    "}\n"
   ]
  },
  {
   "cell_type": "code",
   "execution_count": null,
   "metadata": {},
   "outputs": [],
   "source": []
  }
 ],
 "metadata": {
  "kernelspec": {
   "display_name": ".venv",
   "language": "python",
   "name": "python3"
  },
  "language_info": {
   "codemirror_mode": {
    "name": "ipython",
    "version": 3
   },
   "file_extension": ".py",
   "mimetype": "text/x-python",
   "name": "python",
   "nbconvert_exporter": "python",
   "pygments_lexer": "ipython3",
   "version": "3.11.7"
  }
 },
 "nbformat": 4,
 "nbformat_minor": 2
}
